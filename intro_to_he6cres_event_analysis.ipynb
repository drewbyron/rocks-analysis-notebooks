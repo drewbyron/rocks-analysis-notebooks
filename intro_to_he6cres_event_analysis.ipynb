{
 "cells": [
  {
   "cell_type": "markdown",
   "id": "27503c63-3ab4-4eba-82f3-ea1d3b45efd9",
   "metadata": {},
   "source": [
    "## Resources: \n",
    "* He events: https://drive.google.com/file/d/1ohFX_yqrFfsXP3JHFp-Mp9Brl6nhRegS/view?usp=share_link\n",
    "* Ne events: https://drive.google.com/file/d/17_ZfULxvqYv7JgsxULqcydt4pnmtiRh9/view?usp=share_link\n",
    "* https://docs.google.com/document/d/1fep0m3z09genCyRcvzKuLVIUNF23Mv2tvnyw2yEf1Wg/edit\n",
    "* https://github.com/Helium6CRES/rocks_analysis_pipeline\n",
    "\n",
    "Notes: \n",
    "* run_id, file_id, EventID specify a unique event. "
   ]
  },
  {
   "cell_type": "code",
   "execution_count": 21,
   "id": "07377647-5b30-45cd-b301-fb528c127c0d",
   "metadata": {},
   "outputs": [],
   "source": [
    "import pandas as pd\n",
    "import seaborn as sns\n",
    "from datetime import datetime\n",
    "import numpy as np\n",
    "import math"
   ]
  },
  {
   "cell_type": "code",
   "execution_count": 22,
   "id": "1f7ba185-94cb-43c9-9004-100fbaf2ee92",
   "metadata": {},
   "outputs": [],
   "source": [
    "he_events_path = \"/media/drew/T7 Shield/rocks_analysis/saved_experiments/he6_full_0_aid_1/events.csv\"\n",
    "\n",
    "he = pd.read_csv(he_events_path, index_col =0)\n",
    "\n",
    "#filter bad files\n",
    "he[\"bad_file\"] = False\n",
    "he.loc[(he[\"run_id\"] == 380) & (he[\"file_id\"]%3 == 0), \"bad_file\"] = True\n",
    "he.loc[(he[\"run_id\"] == 381), \"bad_file\"] = True\n",
    "he = he[he[\"bad_file\"] == False]"
   ]
  },
  {
   "cell_type": "code",
   "execution_count": 23,
   "id": "b4fcaf31-d51b-48ed-8bdf-b3616b9c75cd",
   "metadata": {},
   "outputs": [],
   "source": [
    "#make new unique event ID\n",
    "cols = ['run_id', 'file_id', 'EventID']\n",
    "he['UniEID'] = he[cols].apply(lambda row: '_'.join(row.values.astype(str)), axis=1)"
   ]
  },
  {
   "cell_type": "code",
   "execution_count": null,
   "id": "e8f2af9d-5602-447d-a1ee-0ad6ef09d88d",
   "metadata": {},
   "outputs": [],
   "source": [
    "#constants for energy conversion:\n",
    "q = 1.602E-19;\n",
    "m_e = 9.109383632E-31;\n",
    "c = 2.99792458E+08;\n",
    "J_eV = 1.60217E-19;\n",
    "#Make a collumn for energy\n",
    "he[\"StartEnergy\"] = m_e*c*c*((q*he[\"field\"])/(m_e*2*math.pi*(he[\"EventStartFreq\"]+17.9e9))-1)/J_eV;"
   ]
  },
  {
   "cell_type": "code",
   "execution_count": null,
   "id": "c1d8e7f6-f1db-44de-8c28-216b9e485351",
   "metadata": {},
   "outputs": [],
   "source": [
    "he.groupby(\"set_field\").max().reset_index()"
   ]
  },
  {
   "cell_type": "code",
   "execution_count": 14,
   "id": "cf6af1f6-169d-44db-947b-77039aad9ec1",
   "metadata": {},
   "outputs": [
    {
     "data": {
      "text/plain": [
       "<AxesSubplot:xlabel='EventTimeLength', ylabel='EventSlope'>"
      ]
     },
     "execution_count": 14,
     "metadata": {},
     "output_type": "execute_result"
    }
   ],
   "source": [
    "%matplotlib qt\n",
    "sns.scatterplot(data = he, x = \"EventTimeLength\", y = \"EventSlope\", hue = \"set_field\", size = .001)\n",
    "\n"
   ]
  },
  {
   "cell_type": "code",
   "execution_count": null,
   "id": "08a0d9d1-b93b-4d4a-b7e0-45a5c949ec07",
   "metadata": {},
   "outputs": [],
   "source": []
  }
 ],
 "metadata": {
  "kernelspec": {
   "display_name": "Python 3 (ipykernel)",
   "language": "python",
   "name": "python3"
  },
  "language_info": {
   "codemirror_mode": {
    "name": "ipython",
    "version": 3
   },
   "file_extension": ".py",
   "mimetype": "text/x-python",
   "name": "python",
   "nbconvert_exporter": "python",
   "pygments_lexer": "ipython3",
   "version": "3.7.12"
  }
 },
 "nbformat": 4,
 "nbformat_minor": 5
}
